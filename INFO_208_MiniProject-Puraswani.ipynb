{
 "cells": [
  {
   "cell_type": "markdown",
   "metadata": {},
   "source": [
    "Importing and Using extensive Python libraries. "
   ]
  },
  {
   "cell_type": "code",
   "execution_count": 1,
   "metadata": {},
   "outputs": [],
   "source": [
    "import pandas as pd\n",
    "import numpy as np\n",
    "import matplotlib.pyplot as plt       \n",
    "import seaborn as sns\n",
    "%matplotlib inline"
   ]
  },
  {
   "cell_type": "markdown",
   "metadata": {},
   "source": [
    "read_csv-Read CSV (comma-separated) file into DataFrame."
   ]
  },
  {
   "cell_type": "code",
   "execution_count": 2,
   "metadata": {},
   "outputs": [],
   "source": [
    "amazon=pd.read_csv(\"amazon_co-ecommerce_sample.csv\")"
   ]
  },
  {
   "cell_type": "markdown",
   "metadata": {},
   "source": [
    "Functions head() and tail() are used to display top 5 and last 5 rows respectively."
   ]
  },
  {
   "cell_type": "code",
   "execution_count": 3,
   "metadata": {},
   "outputs": [
    {
     "data": {
      "text/html": [
       "<div>\n",
       "<style scoped>\n",
       "    .dataframe tbody tr th:only-of-type {\n",
       "        vertical-align: middle;\n",
       "    }\n",
       "\n",
       "    .dataframe tbody tr th {\n",
       "        vertical-align: top;\n",
       "    }\n",
       "\n",
       "    .dataframe thead th {\n",
       "        text-align: right;\n",
       "    }\n",
       "</style>\n",
       "<table border=\"1\" class=\"dataframe\">\n",
       "  <thead>\n",
       "    <tr style=\"text-align: right;\">\n",
       "      <th></th>\n",
       "      <th>uniq_id</th>\n",
       "      <th>product_name</th>\n",
       "      <th>manufacturer</th>\n",
       "      <th>price</th>\n",
       "      <th>number_available_in_stock</th>\n",
       "      <th>number_of_reviews</th>\n",
       "      <th>number_of_answered_questions</th>\n",
       "      <th>average_review_rating</th>\n",
       "      <th>amazon_category_and_sub_category</th>\n",
       "      <th>customers_who_bought_this_item_also_bought</th>\n",
       "      <th>description</th>\n",
       "      <th>product_information</th>\n",
       "      <th>product_description</th>\n",
       "      <th>items_customers_buy_after_viewing_this_item</th>\n",
       "      <th>customer_questions_and_answers</th>\n",
       "      <th>customer_reviews</th>\n",
       "      <th>sellers</th>\n",
       "    </tr>\n",
       "  </thead>\n",
       "  <tbody>\n",
       "    <tr>\n",
       "      <th>0</th>\n",
       "      <td>eac7efa5dbd3d667f26eb3d3ab504464</td>\n",
       "      <td>Hornby 2014 Catalogue</td>\n",
       "      <td>Hornby</td>\n",
       "      <td>£3.42</td>\n",
       "      <td>5 new</td>\n",
       "      <td>15</td>\n",
       "      <td>1.0</td>\n",
       "      <td>4.9 out of 5 stars</td>\n",
       "      <td>Hobbies &gt; Model Trains &amp; Railway Sets &gt; Rail V...</td>\n",
       "      <td>http://www.amazon.co.uk/Hornby-R8150-Catalogue...</td>\n",
       "      <td>Product Description Hornby 2014 Catalogue Box ...</td>\n",
       "      <td>Technical Details Item Weight640 g Product Dim...</td>\n",
       "      <td>Product Description Hornby 2014 Catalogue Box ...</td>\n",
       "      <td>http://www.amazon.co.uk/Hornby-R8150-Catalogue...</td>\n",
       "      <td>Does this catalogue detail all the previous Ho...</td>\n",
       "      <td>Worth Buying For The Pictures Alone (As Ever) ...</td>\n",
       "      <td>{\"seller\"=&gt;[{\"Seller_name_1\"=&gt;\"Amazon.co.uk\", ...</td>\n",
       "    </tr>\n",
       "    <tr>\n",
       "      <th>1</th>\n",
       "      <td>b17540ef7e86e461d37f3ae58b7b72ac</td>\n",
       "      <td>FunkyBuys® Large Christmas Holiday Express Fes...</td>\n",
       "      <td>FunkyBuys</td>\n",
       "      <td>£16.99</td>\n",
       "      <td>NaN</td>\n",
       "      <td>2</td>\n",
       "      <td>1.0</td>\n",
       "      <td>4.5 out of 5 stars</td>\n",
       "      <td>Hobbies &gt; Model Trains &amp; Railway Sets &gt; Rail V...</td>\n",
       "      <td>http://www.amazon.co.uk/Christmas-Holiday-Expr...</td>\n",
       "      <td>Size Name:Large FunkyBuys® Large Christmas Hol...</td>\n",
       "      <td>Technical Details Manufacturer recommended age...</td>\n",
       "      <td>Size Name:Large FunkyBuys® Large Christmas Hol...</td>\n",
       "      <td>http://www.amazon.co.uk/Christmas-Holiday-Expr...</td>\n",
       "      <td>can you turn off sounds // hi no you cant turn...</td>\n",
       "      <td>Four Stars // 4.0 // 18 Dec. 2015 // By\\n    \\...</td>\n",
       "      <td>{\"seller\"=&gt;{\"Seller_name_1\"=&gt;\"UHD WHOLESALE\", ...</td>\n",
       "    </tr>\n",
       "    <tr>\n",
       "      <th>2</th>\n",
       "      <td>348f344247b0c1a935b1223072ef9d8a</td>\n",
       "      <td>CLASSIC TOY TRAIN SET TRACK CARRIAGES LIGHT EN...</td>\n",
       "      <td>ccf</td>\n",
       "      <td>£9.99</td>\n",
       "      <td>2 new</td>\n",
       "      <td>17</td>\n",
       "      <td>2.0</td>\n",
       "      <td>3.9 out of 5 stars</td>\n",
       "      <td>Hobbies &gt; Model Trains &amp; Railway Sets &gt; Rail V...</td>\n",
       "      <td>http://www.amazon.co.uk/Classic-Train-Lights-B...</td>\n",
       "      <td>BIG CLASSIC TOY TRAIN SET TRACK CARRIAGE LIGHT...</td>\n",
       "      <td>Technical Details Manufacturer recommended age...</td>\n",
       "      <td>BIG CLASSIC TOY TRAIN SET TRACK CARRIAGE LIGHT...</td>\n",
       "      <td>http://www.amazon.co.uk/Train-With-Tracks-Batt...</td>\n",
       "      <td>What is the gauge of the track // Hi Paul.Trut...</td>\n",
       "      <td>**Highly Recommended!** // 5.0 // 26 May 2015 ...</td>\n",
       "      <td>{\"seller\"=&gt;[{\"Seller_name_1\"=&gt;\"DEAL-BOX\", \"Sel...</td>\n",
       "    </tr>\n",
       "    <tr>\n",
       "      <th>3</th>\n",
       "      <td>e12b92dbb8eaee78b22965d2a9bbbd9f</td>\n",
       "      <td>HORNBY Coach R4410A BR Hawksworth Corridor 3rd</td>\n",
       "      <td>Hornby</td>\n",
       "      <td>£39.99</td>\n",
       "      <td>NaN</td>\n",
       "      <td>1</td>\n",
       "      <td>2.0</td>\n",
       "      <td>5.0 out of 5 stars</td>\n",
       "      <td>Hobbies &gt; Model Trains &amp; Railway Sets &gt; Rail V...</td>\n",
       "      <td>NaN</td>\n",
       "      <td>Hornby 00 Gauge BR Hawksworth 3rd Class W 2107...</td>\n",
       "      <td>Technical Details Item Weight259 g Product Dim...</td>\n",
       "      <td>Hornby 00 Gauge BR Hawksworth 3rd Class W 2107...</td>\n",
       "      <td>NaN</td>\n",
       "      <td>NaN</td>\n",
       "      <td>I love it // 5.0 // 22 July 2013 // By\\n    \\n...</td>\n",
       "      <td>NaN</td>\n",
       "    </tr>\n",
       "    <tr>\n",
       "      <th>4</th>\n",
       "      <td>e33a9adeed5f36840ccc227db4682a36</td>\n",
       "      <td>Hornby 00 Gauge 0-4-0 Gildenlow Salt Co. Steam...</td>\n",
       "      <td>Hornby</td>\n",
       "      <td>£32.19</td>\n",
       "      <td>NaN</td>\n",
       "      <td>3</td>\n",
       "      <td>2.0</td>\n",
       "      <td>4.7 out of 5 stars</td>\n",
       "      <td>Hobbies &gt; Model Trains &amp; Railway Sets &gt; Rail V...</td>\n",
       "      <td>http://www.amazon.co.uk/Hornby-R6367-RailRoad-...</td>\n",
       "      <td>Product Description Hornby RailRoad 0-4-0 Gild...</td>\n",
       "      <td>Technical Details Item Weight159 g Product Dim...</td>\n",
       "      <td>Product Description Hornby RailRoad 0-4-0 Gild...</td>\n",
       "      <td>http://www.amazon.co.uk/Hornby-R2672-RailRoad-...</td>\n",
       "      <td>NaN</td>\n",
       "      <td>Birthday present // 5.0 // 14 April 2014 // By...</td>\n",
       "      <td>NaN</td>\n",
       "    </tr>\n",
       "  </tbody>\n",
       "</table>\n",
       "</div>"
      ],
      "text/plain": [
       "                            uniq_id  \\\n",
       "0  eac7efa5dbd3d667f26eb3d3ab504464   \n",
       "1  b17540ef7e86e461d37f3ae58b7b72ac   \n",
       "2  348f344247b0c1a935b1223072ef9d8a   \n",
       "3  e12b92dbb8eaee78b22965d2a9bbbd9f   \n",
       "4  e33a9adeed5f36840ccc227db4682a36   \n",
       "\n",
       "                                        product_name manufacturer   price  \\\n",
       "0                              Hornby 2014 Catalogue       Hornby   £3.42   \n",
       "1  FunkyBuys® Large Christmas Holiday Express Fes...    FunkyBuys  £16.99   \n",
       "2  CLASSIC TOY TRAIN SET TRACK CARRIAGES LIGHT EN...          ccf   £9.99   \n",
       "3     HORNBY Coach R4410A BR Hawksworth Corridor 3rd       Hornby  £39.99   \n",
       "4  Hornby 00 Gauge 0-4-0 Gildenlow Salt Co. Steam...       Hornby  £32.19   \n",
       "\n",
       "  number_available_in_stock number_of_reviews  number_of_answered_questions  \\\n",
       "0                     5 new                15                           1.0   \n",
       "1                       NaN                 2                           1.0   \n",
       "2                     2 new                17                           2.0   \n",
       "3                       NaN                 1                           2.0   \n",
       "4                       NaN                 3                           2.0   \n",
       "\n",
       "  average_review_rating                   amazon_category_and_sub_category  \\\n",
       "0    4.9 out of 5 stars  Hobbies > Model Trains & Railway Sets > Rail V...   \n",
       "1    4.5 out of 5 stars  Hobbies > Model Trains & Railway Sets > Rail V...   \n",
       "2    3.9 out of 5 stars  Hobbies > Model Trains & Railway Sets > Rail V...   \n",
       "3    5.0 out of 5 stars  Hobbies > Model Trains & Railway Sets > Rail V...   \n",
       "4    4.7 out of 5 stars  Hobbies > Model Trains & Railway Sets > Rail V...   \n",
       "\n",
       "          customers_who_bought_this_item_also_bought  \\\n",
       "0  http://www.amazon.co.uk/Hornby-R8150-Catalogue...   \n",
       "1  http://www.amazon.co.uk/Christmas-Holiday-Expr...   \n",
       "2  http://www.amazon.co.uk/Classic-Train-Lights-B...   \n",
       "3                                                NaN   \n",
       "4  http://www.amazon.co.uk/Hornby-R6367-RailRoad-...   \n",
       "\n",
       "                                         description  \\\n",
       "0  Product Description Hornby 2014 Catalogue Box ...   \n",
       "1  Size Name:Large FunkyBuys® Large Christmas Hol...   \n",
       "2  BIG CLASSIC TOY TRAIN SET TRACK CARRIAGE LIGHT...   \n",
       "3  Hornby 00 Gauge BR Hawksworth 3rd Class W 2107...   \n",
       "4  Product Description Hornby RailRoad 0-4-0 Gild...   \n",
       "\n",
       "                                 product_information  \\\n",
       "0  Technical Details Item Weight640 g Product Dim...   \n",
       "1  Technical Details Manufacturer recommended age...   \n",
       "2  Technical Details Manufacturer recommended age...   \n",
       "3  Technical Details Item Weight259 g Product Dim...   \n",
       "4  Technical Details Item Weight159 g Product Dim...   \n",
       "\n",
       "                                 product_description  \\\n",
       "0  Product Description Hornby 2014 Catalogue Box ...   \n",
       "1  Size Name:Large FunkyBuys® Large Christmas Hol...   \n",
       "2  BIG CLASSIC TOY TRAIN SET TRACK CARRIAGE LIGHT...   \n",
       "3  Hornby 00 Gauge BR Hawksworth 3rd Class W 2107...   \n",
       "4  Product Description Hornby RailRoad 0-4-0 Gild...   \n",
       "\n",
       "         items_customers_buy_after_viewing_this_item  \\\n",
       "0  http://www.amazon.co.uk/Hornby-R8150-Catalogue...   \n",
       "1  http://www.amazon.co.uk/Christmas-Holiday-Expr...   \n",
       "2  http://www.amazon.co.uk/Train-With-Tracks-Batt...   \n",
       "3                                                NaN   \n",
       "4  http://www.amazon.co.uk/Hornby-R2672-RailRoad-...   \n",
       "\n",
       "                      customer_questions_and_answers  \\\n",
       "0  Does this catalogue detail all the previous Ho...   \n",
       "1  can you turn off sounds // hi no you cant turn...   \n",
       "2  What is the gauge of the track // Hi Paul.Trut...   \n",
       "3                                                NaN   \n",
       "4                                                NaN   \n",
       "\n",
       "                                    customer_reviews  \\\n",
       "0  Worth Buying For The Pictures Alone (As Ever) ...   \n",
       "1  Four Stars // 4.0 // 18 Dec. 2015 // By\\n    \\...   \n",
       "2  **Highly Recommended!** // 5.0 // 26 May 2015 ...   \n",
       "3  I love it // 5.0 // 22 July 2013 // By\\n    \\n...   \n",
       "4  Birthday present // 5.0 // 14 April 2014 // By...   \n",
       "\n",
       "                                             sellers  \n",
       "0  {\"seller\"=>[{\"Seller_name_1\"=>\"Amazon.co.uk\", ...  \n",
       "1  {\"seller\"=>{\"Seller_name_1\"=>\"UHD WHOLESALE\", ...  \n",
       "2  {\"seller\"=>[{\"Seller_name_1\"=>\"DEAL-BOX\", \"Sel...  \n",
       "3                                                NaN  \n",
       "4                                                NaN  "
      ]
     },
     "execution_count": 3,
     "metadata": {},
     "output_type": "execute_result"
    }
   ],
   "source": [
    "amazon.head()"
   ]
  },
  {
   "cell_type": "code",
   "execution_count": 4,
   "metadata": {},
   "outputs": [
    {
     "data": {
      "text/html": [
       "<div>\n",
       "<style scoped>\n",
       "    .dataframe tbody tr th:only-of-type {\n",
       "        vertical-align: middle;\n",
       "    }\n",
       "\n",
       "    .dataframe tbody tr th {\n",
       "        vertical-align: top;\n",
       "    }\n",
       "\n",
       "    .dataframe thead th {\n",
       "        text-align: right;\n",
       "    }\n",
       "</style>\n",
       "<table border=\"1\" class=\"dataframe\">\n",
       "  <thead>\n",
       "    <tr style=\"text-align: right;\">\n",
       "      <th></th>\n",
       "      <th>uniq_id</th>\n",
       "      <th>product_name</th>\n",
       "      <th>manufacturer</th>\n",
       "      <th>price</th>\n",
       "      <th>number_available_in_stock</th>\n",
       "      <th>number_of_reviews</th>\n",
       "      <th>number_of_answered_questions</th>\n",
       "      <th>average_review_rating</th>\n",
       "      <th>amazon_category_and_sub_category</th>\n",
       "      <th>customers_who_bought_this_item_also_bought</th>\n",
       "      <th>description</th>\n",
       "      <th>product_information</th>\n",
       "      <th>product_description</th>\n",
       "      <th>items_customers_buy_after_viewing_this_item</th>\n",
       "      <th>customer_questions_and_answers</th>\n",
       "      <th>customer_reviews</th>\n",
       "      <th>sellers</th>\n",
       "    </tr>\n",
       "  </thead>\n",
       "  <tbody>\n",
       "    <tr>\n",
       "      <th>9995</th>\n",
       "      <td>44d6967f083825a5de36ad4865a65bcd</td>\n",
       "      <td>Batman 1966 TV Series Action Figures - The Rid...</td>\n",
       "      <td>Mattel</td>\n",
       "      <td>£22.95</td>\n",
       "      <td>5 new</td>\n",
       "      <td>3</td>\n",
       "      <td>3.0</td>\n",
       "      <td>5.0 out of 5 stars</td>\n",
       "      <td>Hobbies &gt; Collectible Figures &amp; Memorabilia &gt; ...</td>\n",
       "      <td>http://www.amazon.co.uk/Batman-1966-Series-Act...</td>\n",
       "      <td>DC 66 Batman Classic TV Series 6 Inch Riddler ...</td>\n",
       "      <td>Technical Details Item Weight136 g Product Dim...</td>\n",
       "      <td>DC 66 Batman Classic TV Series 6 Inch Riddler ...</td>\n",
       "      <td>NaN</td>\n",
       "      <td>NaN</td>\n",
       "      <td>Realistic // 5.0 // 31 Mar. 2014 // By\\n    \\n...</td>\n",
       "      <td>{\"seller\"=&gt;[{\"Seller_name_1\"=&gt;\"Star Action Fig...</td>\n",
       "    </tr>\n",
       "    <tr>\n",
       "      <th>9996</th>\n",
       "      <td>08f0747b6fc6687215ffb994c3a6fb32</td>\n",
       "      <td>Star Wars Costume, Kids Stormtrooper Costume S...</td>\n",
       "      <td>Star Wars</td>\n",
       "      <td>£39.99</td>\n",
       "      <td>NaN</td>\n",
       "      <td>1</td>\n",
       "      <td>3.0</td>\n",
       "      <td>4.0 out of 5 stars</td>\n",
       "      <td>Characters &amp; Brands &gt; Star Wars &gt; Toys</td>\n",
       "      <td>http://www.amazon.co.uk/Storm-Trooper-Costume-...</td>\n",
       "      <td>NaN</td>\n",
       "      <td>Technical Details    Additional Information AS...</td>\n",
       "      <td>NaN</td>\n",
       "      <td>http://www.amazon.co.uk/Storm-Trooper-Costume-...</td>\n",
       "      <td>NaN</td>\n",
       "      <td>... what I see my grandson us going to have fu...</td>\n",
       "      <td>NaN</td>\n",
       "    </tr>\n",
       "    <tr>\n",
       "      <th>9997</th>\n",
       "      <td>bf6cc073f8f24e6e338190fa16f6ee9d</td>\n",
       "      <td>Defiance Lawkeeper Metal Badge Prop Replica</td>\n",
       "      <td>Olde Scotland Yard Ltd.</td>\n",
       "      <td>£43.99</td>\n",
       "      <td>3 new</td>\n",
       "      <td>1</td>\n",
       "      <td>3.0</td>\n",
       "      <td>5.0 out of 5 stars</td>\n",
       "      <td>Novelty &amp; Special Use &gt; Novelty &gt; Accessories ...</td>\n",
       "      <td>NaN</td>\n",
       "      <td>*Includes 1x Badge with holder and chain *High...</td>\n",
       "      <td>Technical Details Item Weight159 g Product Dim...</td>\n",
       "      <td>*Includes 1x Badge with holder and chain *High...</td>\n",
       "      <td>http://www.amazon.co.uk/Olde-Scotland-Yard-Ltd...</td>\n",
       "      <td>NaN</td>\n",
       "      <td>Five Stars // 5.0 // 18 Dec. 2015 // By\\n    \\...</td>\n",
       "      <td>{\"seller\"=&gt;[{\"Seller_name_1\"=&gt;\"YUK\", \"Seller_p...</td>\n",
       "    </tr>\n",
       "    <tr>\n",
       "      <th>9998</th>\n",
       "      <td>cd783d0b8b44e631b9788b203eaaefae</td>\n",
       "      <td>Justice League of America Series 3 Green Lante...</td>\n",
       "      <td>DC Comics</td>\n",
       "      <td>£49.81</td>\n",
       "      <td>3 new</td>\n",
       "      <td>1</td>\n",
       "      <td>3.0</td>\n",
       "      <td>5.0 out of 5 stars</td>\n",
       "      <td>Hobbies &gt; Collectible Figures &amp; Memorabilia &gt; ...</td>\n",
       "      <td>NaN</td>\n",
       "      <td>Designed by Ed BenesIt's here - the third seri...</td>\n",
       "      <td>Technical Details Item Weight181 g Product Dim...</td>\n",
       "      <td>Designed by Ed BenesIt's here - the third seri...</td>\n",
       "      <td>NaN</td>\n",
       "      <td>NaN</td>\n",
       "      <td>The best sculpt in a while // 5.0 // 13 May 20...</td>\n",
       "      <td>{\"seller\"=&gt;[{\"Seller_name_1\"=&gt;\"Smaller World F...</td>\n",
       "    </tr>\n",
       "    <tr>\n",
       "      <th>9999</th>\n",
       "      <td>94d18e86e504bee1e392df7e5738b18a</td>\n",
       "      <td>Star Wars 1/72 Y-Wing Starfighter</td>\n",
       "      <td>Bandai</td>\n",
       "      <td>£21.20</td>\n",
       "      <td>31 new</td>\n",
       "      <td>11</td>\n",
       "      <td>3.0</td>\n",
       "      <td>4.5 out of 5 stars</td>\n",
       "      <td>Characters &amp; Brands &gt; Star Wars &gt; Toys</td>\n",
       "      <td>http://www.amazon.co.uk/Bandai-Star-Wars-Fight...</td>\n",
       "      <td>NaN</td>\n",
       "      <td>Technical Details Item Weight299 g Product Dim...</td>\n",
       "      <td>NaN</td>\n",
       "      <td>NaN</td>\n",
       "      <td>NaN</td>\n",
       "      <td>Gold leader // 5.0 // 31 Aug. 2015 // By\\n    ...</td>\n",
       "      <td>NaN</td>\n",
       "    </tr>\n",
       "  </tbody>\n",
       "</table>\n",
       "</div>"
      ],
      "text/plain": [
       "                               uniq_id  \\\n",
       "9995  44d6967f083825a5de36ad4865a65bcd   \n",
       "9996  08f0747b6fc6687215ffb994c3a6fb32   \n",
       "9997  bf6cc073f8f24e6e338190fa16f6ee9d   \n",
       "9998  cd783d0b8b44e631b9788b203eaaefae   \n",
       "9999  94d18e86e504bee1e392df7e5738b18a   \n",
       "\n",
       "                                           product_name  \\\n",
       "9995  Batman 1966 TV Series Action Figures - The Rid...   \n",
       "9996  Star Wars Costume, Kids Stormtrooper Costume S...   \n",
       "9997        Defiance Lawkeeper Metal Badge Prop Replica   \n",
       "9998  Justice League of America Series 3 Green Lante...   \n",
       "9999                  Star Wars 1/72 Y-Wing Starfighter   \n",
       "\n",
       "                 manufacturer   price number_available_in_stock  \\\n",
       "9995                   Mattel  £22.95                     5 new   \n",
       "9996                Star Wars  £39.99                       NaN   \n",
       "9997  Olde Scotland Yard Ltd.  £43.99                     3 new   \n",
       "9998                DC Comics  £49.81                     3 new   \n",
       "9999                   Bandai  £21.20                    31 new   \n",
       "\n",
       "     number_of_reviews  number_of_answered_questions average_review_rating  \\\n",
       "9995                 3                           3.0    5.0 out of 5 stars   \n",
       "9996                 1                           3.0    4.0 out of 5 stars   \n",
       "9997                 1                           3.0    5.0 out of 5 stars   \n",
       "9998                 1                           3.0    5.0 out of 5 stars   \n",
       "9999                11                           3.0    4.5 out of 5 stars   \n",
       "\n",
       "                       amazon_category_and_sub_category  \\\n",
       "9995  Hobbies > Collectible Figures & Memorabilia > ...   \n",
       "9996             Characters & Brands > Star Wars > Toys   \n",
       "9997  Novelty & Special Use > Novelty > Accessories ...   \n",
       "9998  Hobbies > Collectible Figures & Memorabilia > ...   \n",
       "9999             Characters & Brands > Star Wars > Toys   \n",
       "\n",
       "             customers_who_bought_this_item_also_bought  \\\n",
       "9995  http://www.amazon.co.uk/Batman-1966-Series-Act...   \n",
       "9996  http://www.amazon.co.uk/Storm-Trooper-Costume-...   \n",
       "9997                                                NaN   \n",
       "9998                                                NaN   \n",
       "9999  http://www.amazon.co.uk/Bandai-Star-Wars-Fight...   \n",
       "\n",
       "                                            description  \\\n",
       "9995  DC 66 Batman Classic TV Series 6 Inch Riddler ...   \n",
       "9996                                                NaN   \n",
       "9997  *Includes 1x Badge with holder and chain *High...   \n",
       "9998  Designed by Ed BenesIt's here - the third seri...   \n",
       "9999                                                NaN   \n",
       "\n",
       "                                    product_information  \\\n",
       "9995  Technical Details Item Weight136 g Product Dim...   \n",
       "9996  Technical Details    Additional Information AS...   \n",
       "9997  Technical Details Item Weight159 g Product Dim...   \n",
       "9998  Technical Details Item Weight181 g Product Dim...   \n",
       "9999  Technical Details Item Weight299 g Product Dim...   \n",
       "\n",
       "                                    product_description  \\\n",
       "9995  DC 66 Batman Classic TV Series 6 Inch Riddler ...   \n",
       "9996                                                NaN   \n",
       "9997  *Includes 1x Badge with holder and chain *High...   \n",
       "9998  Designed by Ed BenesIt's here - the third seri...   \n",
       "9999                                                NaN   \n",
       "\n",
       "            items_customers_buy_after_viewing_this_item  \\\n",
       "9995                                                NaN   \n",
       "9996  http://www.amazon.co.uk/Storm-Trooper-Costume-...   \n",
       "9997  http://www.amazon.co.uk/Olde-Scotland-Yard-Ltd...   \n",
       "9998                                                NaN   \n",
       "9999                                                NaN   \n",
       "\n",
       "     customer_questions_and_answers  \\\n",
       "9995                            NaN   \n",
       "9996                            NaN   \n",
       "9997                            NaN   \n",
       "9998                            NaN   \n",
       "9999                            NaN   \n",
       "\n",
       "                                       customer_reviews  \\\n",
       "9995  Realistic // 5.0 // 31 Mar. 2014 // By\\n    \\n...   \n",
       "9996  ... what I see my grandson us going to have fu...   \n",
       "9997  Five Stars // 5.0 // 18 Dec. 2015 // By\\n    \\...   \n",
       "9998  The best sculpt in a while // 5.0 // 13 May 20...   \n",
       "9999  Gold leader // 5.0 // 31 Aug. 2015 // By\\n    ...   \n",
       "\n",
       "                                                sellers  \n",
       "9995  {\"seller\"=>[{\"Seller_name_1\"=>\"Star Action Fig...  \n",
       "9996                                                NaN  \n",
       "9997  {\"seller\"=>[{\"Seller_name_1\"=>\"YUK\", \"Seller_p...  \n",
       "9998  {\"seller\"=>[{\"Seller_name_1\"=>\"Smaller World F...  \n",
       "9999                                                NaN  "
      ]
     },
     "execution_count": 4,
     "metadata": {},
     "output_type": "execute_result"
    }
   ],
   "source": [
    "amazon.tail()"
   ]
  },
  {
   "cell_type": "markdown",
   "metadata": {},
   "source": [
    "Number of rows and columns in dataframe amazon are displayed."
   ]
  },
  {
   "cell_type": "code",
   "execution_count": 5,
   "metadata": {},
   "outputs": [
    {
     "data": {
      "text/plain": [
       "(10000, 17)"
      ]
     },
     "execution_count": 5,
     "metadata": {},
     "output_type": "execute_result"
    }
   ],
   "source": [
    "amazon.shape"
   ]
  },
  {
   "cell_type": "markdown",
   "metadata": {},
   "source": [
    "Names of columns in dataframe amazon are displayed."
   ]
  },
  {
   "cell_type": "code",
   "execution_count": 6,
   "metadata": {},
   "outputs": [
    {
     "data": {
      "text/plain": [
       "Index(['uniq_id', 'product_name', 'manufacturer', 'price',\n",
       "       'number_available_in_stock', 'number_of_reviews',\n",
       "       'number_of_answered_questions', 'average_review_rating',\n",
       "       'amazon_category_and_sub_category',\n",
       "       'customers_who_bought_this_item_also_bought', 'description',\n",
       "       'product_information', 'product_description',\n",
       "       'items_customers_buy_after_viewing_this_item',\n",
       "       'customer_questions_and_answers', 'customer_reviews', 'sellers'],\n",
       "      dtype='object')"
      ]
     },
     "execution_count": 6,
     "metadata": {},
     "output_type": "execute_result"
    }
   ],
   "source": [
    "amazon.columns"
   ]
  },
  {
   "cell_type": "markdown",
   "metadata": {},
   "source": [
    "To know more information about the index dtype ,column dtypes, non-null values and memory usage amazon.info() method is used."
   ]
  },
  {
   "cell_type": "code",
   "execution_count": 7,
   "metadata": {},
   "outputs": [
    {
     "name": "stdout",
     "output_type": "stream",
     "text": [
      "<class 'pandas.core.frame.DataFrame'>\n",
      "RangeIndex: 10000 entries, 0 to 9999\n",
      "Data columns (total 17 columns):\n",
      "uniq_id                                        10000 non-null object\n",
      "product_name                                   10000 non-null object\n",
      "manufacturer                                   9993 non-null object\n",
      "price                                          8565 non-null object\n",
      "number_available_in_stock                      7500 non-null object\n",
      "number_of_reviews                              9982 non-null object\n",
      "number_of_answered_questions                   9235 non-null float64\n",
      "average_review_rating                          9982 non-null object\n",
      "amazon_category_and_sub_category               9310 non-null object\n",
      "customers_who_bought_this_item_also_bought     8938 non-null object\n",
      "description                                    9349 non-null object\n",
      "product_information                            9942 non-null object\n",
      "product_description                            9349 non-null object\n",
      "items_customers_buy_after_viewing_this_item    6935 non-null object\n",
      "customer_questions_and_answers                 914 non-null object\n",
      "customer_reviews                               9979 non-null object\n",
      "sellers                                        6918 non-null object\n",
      "dtypes: float64(1), object(16)\n",
      "memory usage: 1.3+ MB\n"
     ]
    }
   ],
   "source": [
    "amazon.info()"
   ]
  },
  {
   "cell_type": "markdown",
   "metadata": {},
   "source": [
    "To Count non-NA cells for each column or row."
   ]
  },
  {
   "cell_type": "code",
   "execution_count": 8,
   "metadata": {},
   "outputs": [
    {
     "data": {
      "text/plain": [
       "uniq_id                                        10000\n",
       "product_name                                   10000\n",
       "manufacturer                                    9993\n",
       "price                                           8565\n",
       "number_available_in_stock                       7500\n",
       "number_of_reviews                               9982\n",
       "number_of_answered_questions                    9235\n",
       "average_review_rating                           9982\n",
       "amazon_category_and_sub_category                9310\n",
       "customers_who_bought_this_item_also_bought      8938\n",
       "description                                     9349\n",
       "product_information                             9942\n",
       "product_description                             9349\n",
       "items_customers_buy_after_viewing_this_item     6935\n",
       "customer_questions_and_answers                   914\n",
       "customer_reviews                                9979\n",
       "sellers                                         6918\n",
       "dtype: int64"
      ]
     },
     "execution_count": 8,
     "metadata": {},
     "output_type": "execute_result"
    }
   ],
   "source": [
    "amazon.count()"
   ]
  },
  {
   "cell_type": "markdown",
   "metadata": {},
   "source": [
    "Checking for null values using isnull.any() and isnull.sum()"
   ]
  },
  {
   "cell_type": "code",
   "execution_count": 9,
   "metadata": {},
   "outputs": [
    {
     "data": {
      "text/plain": [
       "uniq_id                                        False\n",
       "product_name                                   False\n",
       "manufacturer                                    True\n",
       "price                                           True\n",
       "number_available_in_stock                       True\n",
       "number_of_reviews                               True\n",
       "number_of_answered_questions                    True\n",
       "average_review_rating                           True\n",
       "amazon_category_and_sub_category                True\n",
       "customers_who_bought_this_item_also_bought      True\n",
       "description                                     True\n",
       "product_information                             True\n",
       "product_description                             True\n",
       "items_customers_buy_after_viewing_this_item     True\n",
       "customer_questions_and_answers                  True\n",
       "customer_reviews                                True\n",
       "sellers                                         True\n",
       "dtype: bool"
      ]
     },
     "execution_count": 9,
     "metadata": {},
     "output_type": "execute_result"
    }
   ],
   "source": [
    "amazon.isnull().any()"
   ]
  },
  {
   "cell_type": "code",
   "execution_count": 10,
   "metadata": {},
   "outputs": [
    {
     "data": {
      "text/plain": [
       "uniq_id                                           0\n",
       "product_name                                      0\n",
       "manufacturer                                      7\n",
       "price                                          1435\n",
       "number_available_in_stock                      2500\n",
       "number_of_reviews                                18\n",
       "number_of_answered_questions                    765\n",
       "average_review_rating                            18\n",
       "amazon_category_and_sub_category                690\n",
       "customers_who_bought_this_item_also_bought     1062\n",
       "description                                     651\n",
       "product_information                              58\n",
       "product_description                             651\n",
       "items_customers_buy_after_viewing_this_item    3065\n",
       "customer_questions_and_answers                 9086\n",
       "customer_reviews                                 21\n",
       "sellers                                        3082\n",
       "dtype: int64"
      ]
     },
     "execution_count": 10,
     "metadata": {},
     "output_type": "execute_result"
    }
   ],
   "source": [
    "amazon.isnull().sum()"
   ]
  },
  {
   "cell_type": "markdown",
   "metadata": {},
   "source": [
    "calculation for missing value can also be done as-\n",
    "manufacturer column has 7 null values as isnull() checks for null values so 10000-7=9993 not null values and count() shows 9993 not null values=10000-9993=7 null values as count calculates not null values."
   ]
  },
  {
   "cell_type": "markdown",
   "metadata": {},
   "source": [
    "Customer_questions_and_reviews columns contains maximum null values so it can dropped as it does not support much significance in analysis. "
   ]
  },
  {
   "cell_type": "code",
   "execution_count": 11,
   "metadata": {},
   "outputs": [],
   "source": [
    "amazon = amazon.drop(['customer_questions_and_answers'], axis=1) "
   ]
  },
  {
   "cell_type": "markdown",
   "metadata": {},
   "source": [
    "Since,description and product_description have same values so description after merging with product_description a new column can be formed and duplicates can be removed and description column and product_description can be dropped as it does not support much significance."
   ]
  },
  {
   "cell_type": "code",
   "execution_count": 12,
   "metadata": {},
   "outputs": [],
   "source": [
    "amazon['description_of_product']=amazon[['description', 'product_description']].apply(lambda x: ''.join(str(x)), axis=1)"
   ]
  },
  {
   "cell_type": "code",
   "execution_count": 13,
   "metadata": {},
   "outputs": [
    {
     "data": {
      "text/plain": [
       "0       description            Product Description Hor...\n",
       "1       description            Size Name:Large FunkyBu...\n",
       "2       description            BIG CLASSIC TOY TRAIN S...\n",
       "3       description            Hornby 00 Gauge BR Hawk...\n",
       "4       description            Product Description Hor...\n",
       "5       description            These delicate model ga...\n",
       "6       description            Product Description Hor...\n",
       "7       description            Product Description Inj...\n",
       "8       description            Western Express Digital...\n",
       "9       description            Product Description An ...\n",
       "10      description            Product Description Rai...\n",
       "11      description            Suitable for the follow...\n",
       "12      description            Suitable for the follow...\n",
       "13      description            Product Description Hor...\n",
       "14      description            Suitable for the follow...\n",
       "15      description            From 8-year-old: AgeTar...\n",
       "16      description            Product Description 4 c...\n",
       "17      description            Product Description The...\n",
       "18      description            Japanese toys\\nproduct_...\n",
       "19      description            Suitable for the follow...\n",
       "20      description            Suitable for the follow...\n",
       "21      description            Suitable for the follow...\n",
       "22      description            Suitable for the follow...\n",
       "23      description            Batteries sold separate...\n",
       "24      description            Suitable for the follow...\n",
       "25      description            Product Description An ...\n",
       "26      description            Batteries sold separate...\n",
       "27      description            Product Description Tak...\n",
       "28      description            Product Description 194...\n",
       "29      description            Suitable for the follow...\n",
       "                              ...                        \n",
       "9970    description            Product Description Spo...\n",
       "9971    description            NaN\\nproduct_descriptio...\n",
       "9972    description            Harry Potter Mini Figur...\n",
       "9973    description            The Dark Knight Rises, ...\n",
       "9974    description            Cold cast porcelain rep...\n",
       "9975    description            Stark's fans, support y...\n",
       "9976    description            Based on designs from C...\n",
       "9977    description            NaN\\nproduct_descriptio...\n",
       "9978    description            NaN\\nproduct_descriptio...\n",
       "9979    description            NaN\\nproduct_descriptio...\n",
       "9980    description            Halo Reach Square EnIX ...\n",
       "9981    description            Size Name:Armada Wave 2...\n",
       "9982    description            Obi-WanâTMs starfighter...\n",
       "9983    description            Product Description Bas...\n",
       "9984    description            s the Clone Wars raged ...\n",
       "9985    description            Product Description You...\n",
       "9986    description            This wallscroll will he...\n",
       "9987    description            ThunderCats WilyKat 4\" ...\n",
       "9988    description            Captain America - The F...\n",
       "9989    description            NaN\\nproduct_descriptio...\n",
       "9990    description            Product Description Str...\n",
       "9991    description            Product Description The...\n",
       "9992    description            Play the Galactic Battl...\n",
       "9993    description            IRON MAN needs a drill ...\n",
       "9994    description            6 inch action figure fe...\n",
       "9995    description            DC 66 Batman Classic TV...\n",
       "9996    description            NaN\\nproduct_descriptio...\n",
       "9997    description            *Includes 1x Badge with...\n",
       "9998    description            Designed by Ed BenesIt'...\n",
       "9999    description            NaN\\nproduct_descriptio...\n",
       "Name: description_of_product, Length: 10000, dtype: object"
      ]
     },
     "execution_count": 13,
     "metadata": {},
     "output_type": "execute_result"
    }
   ],
   "source": [
    "amazon['description_of_product'].drop_duplicates()"
   ]
  },
  {
   "cell_type": "code",
   "execution_count": 14,
   "metadata": {},
   "outputs": [],
   "source": [
    "amazon = amazon.drop(['description','product_description'], axis=1) "
   ]
  },
  {
   "cell_type": "code",
   "execution_count": 15,
   "metadata": {},
   "outputs": [
    {
     "name": "stdout",
     "output_type": "stream",
     "text": [
      "<class 'pandas.core.frame.DataFrame'>\n",
      "RangeIndex: 10000 entries, 0 to 9999\n",
      "Data columns (total 15 columns):\n",
      "uniq_id                                        10000 non-null object\n",
      "product_name                                   10000 non-null object\n",
      "manufacturer                                   9993 non-null object\n",
      "price                                          8565 non-null object\n",
      "number_available_in_stock                      7500 non-null object\n",
      "number_of_reviews                              9982 non-null object\n",
      "number_of_answered_questions                   9235 non-null float64\n",
      "average_review_rating                          9982 non-null object\n",
      "amazon_category_and_sub_category               9310 non-null object\n",
      "customers_who_bought_this_item_also_bought     8938 non-null object\n",
      "product_information                            9942 non-null object\n",
      "items_customers_buy_after_viewing_this_item    6935 non-null object\n",
      "customer_reviews                               9979 non-null object\n",
      "sellers                                        6918 non-null object\n",
      "description_of_product                         10000 non-null object\n",
      "dtypes: float64(1), object(14)\n",
      "memory usage: 1.1+ MB\n"
     ]
    }
   ],
   "source": [
    "amazon.info()"
   ]
  },
  {
   "cell_type": "code",
   "execution_count": 16,
   "metadata": {},
   "outputs": [
    {
     "data": {
      "text/plain": [
       "(10000, 15)"
      ]
     },
     "execution_count": 16,
     "metadata": {},
     "output_type": "execute_result"
    }
   ],
   "source": [
    "amazon.shape"
   ]
  },
  {
   "cell_type": "code",
   "execution_count": 17,
   "metadata": {},
   "outputs": [
    {
     "data": {
      "text/plain": [
       "0"
      ]
     },
     "execution_count": 17,
     "metadata": {},
     "output_type": "execute_result"
    }
   ],
   "source": [
    "amazon.description_of_product.isnull().sum()  #no null values in new column"
   ]
  },
  {
   "cell_type": "markdown",
   "metadata": {},
   "source": [
    "Replacing Null values with \" \" in amazon_category_and_sub_catgory column as it will help in knowing the popular category and sub categories under which products are purchased by customer."
   ]
  },
  {
   "cell_type": "code",
   "execution_count": 18,
   "metadata": {},
   "outputs": [],
   "source": [
    "amazon.amazon_category_and_sub_category=amazon['amazon_category_and_sub_category'].fillna(\"\")"
   ]
  },
  {
   "cell_type": "code",
   "execution_count": 19,
   "metadata": {},
   "outputs": [
    {
     "name": "stdout",
     "output_type": "stream",
     "text": [
      "<class 'pandas.core.frame.DataFrame'>\n",
      "RangeIndex: 10000 entries, 0 to 9999\n",
      "Data columns (total 15 columns):\n",
      "uniq_id                                        10000 non-null object\n",
      "product_name                                   10000 non-null object\n",
      "manufacturer                                   9993 non-null object\n",
      "price                                          8565 non-null object\n",
      "number_available_in_stock                      7500 non-null object\n",
      "number_of_reviews                              9982 non-null object\n",
      "number_of_answered_questions                   9235 non-null float64\n",
      "average_review_rating                          9982 non-null object\n",
      "amazon_category_and_sub_category               10000 non-null object\n",
      "customers_who_bought_this_item_also_bought     8938 non-null object\n",
      "product_information                            9942 non-null object\n",
      "items_customers_buy_after_viewing_this_item    6935 non-null object\n",
      "customer_reviews                               9979 non-null object\n",
      "sellers                                        6918 non-null object\n",
      "description_of_product                         10000 non-null object\n",
      "dtypes: float64(1), object(14)\n",
      "memory usage: 1.1+ MB\n"
     ]
    }
   ],
   "source": [
    "amazon.info()"
   ]
  },
  {
   "cell_type": "markdown",
   "metadata": {},
   "source": [
    "Replacing Null values with \" \" in customer_reviews column as it will help in sentiment and content analysis in future."
   ]
  },
  {
   "cell_type": "code",
   "execution_count": 20,
   "metadata": {},
   "outputs": [],
   "source": [
    "amazon.customer_reviews=amazon['customer_reviews'].fillna(\"\")"
   ]
  },
  {
   "cell_type": "markdown",
   "metadata": {},
   "source": [
    "Splitting number_available_in_stock into two columns quantity_available and quantity_available_status"
   ]
  },
  {
   "cell_type": "code",
   "execution_count": 21,
   "metadata": {},
   "outputs": [],
   "source": [
    "amazon1 = pd.DataFrame(amazon.number_available_in_stock.astype(str).str.split('\\xa0',1).tolist(),\n",
    "                                   columns = ['quantity_available','quantity_availability_status'])"
   ]
  },
  {
   "cell_type": "code",
   "execution_count": 22,
   "metadata": {},
   "outputs": [
    {
     "data": {
      "text/html": [
       "<div>\n",
       "<style scoped>\n",
       "    .dataframe tbody tr th:only-of-type {\n",
       "        vertical-align: middle;\n",
       "    }\n",
       "\n",
       "    .dataframe tbody tr th {\n",
       "        vertical-align: top;\n",
       "    }\n",
       "\n",
       "    .dataframe thead th {\n",
       "        text-align: right;\n",
       "    }\n",
       "</style>\n",
       "<table border=\"1\" class=\"dataframe\">\n",
       "  <thead>\n",
       "    <tr style=\"text-align: right;\">\n",
       "      <th></th>\n",
       "      <th>quantity_available</th>\n",
       "      <th>quantity_availability_status</th>\n",
       "    </tr>\n",
       "  </thead>\n",
       "  <tbody>\n",
       "    <tr>\n",
       "      <th>0</th>\n",
       "      <td>5</td>\n",
       "      <td>new</td>\n",
       "    </tr>\n",
       "    <tr>\n",
       "      <th>1</th>\n",
       "      <td>nan</td>\n",
       "      <td>None</td>\n",
       "    </tr>\n",
       "    <tr>\n",
       "      <th>2</th>\n",
       "      <td>2</td>\n",
       "      <td>new</td>\n",
       "    </tr>\n",
       "    <tr>\n",
       "      <th>3</th>\n",
       "      <td>nan</td>\n",
       "      <td>None</td>\n",
       "    </tr>\n",
       "    <tr>\n",
       "      <th>4</th>\n",
       "      <td>nan</td>\n",
       "      <td>None</td>\n",
       "    </tr>\n",
       "  </tbody>\n",
       "</table>\n",
       "</div>"
      ],
      "text/plain": [
       "  quantity_available quantity_availability_status\n",
       "0                  5                          new\n",
       "1                nan                         None\n",
       "2                  2                          new\n",
       "3                nan                         None\n",
       "4                nan                         None"
      ]
     },
     "execution_count": 22,
     "metadata": {},
     "output_type": "execute_result"
    }
   ],
   "source": [
    "amazon1.head()  #checking for the split in columns"
   ]
  },
  {
   "cell_type": "code",
   "execution_count": 23,
   "metadata": {},
   "outputs": [],
   "source": [
    "amazon = pd.concat([amazon, amazon1], axis=1, ignore_index=False) #a new dataframe concatenated"
   ]
  },
  {
   "cell_type": "code",
   "execution_count": 24,
   "metadata": {},
   "outputs": [
    {
     "name": "stdout",
     "output_type": "stream",
     "text": [
      "<class 'pandas.core.frame.DataFrame'>\n",
      "RangeIndex: 10000 entries, 0 to 9999\n",
      "Data columns (total 17 columns):\n",
      "uniq_id                                        10000 non-null object\n",
      "product_name                                   10000 non-null object\n",
      "manufacturer                                   9993 non-null object\n",
      "price                                          8565 non-null object\n",
      "number_available_in_stock                      7500 non-null object\n",
      "number_of_reviews                              9982 non-null object\n",
      "number_of_answered_questions                   9235 non-null float64\n",
      "average_review_rating                          9982 non-null object\n",
      "amazon_category_and_sub_category               10000 non-null object\n",
      "customers_who_bought_this_item_also_bought     8938 non-null object\n",
      "product_information                            9942 non-null object\n",
      "items_customers_buy_after_viewing_this_item    6935 non-null object\n",
      "customer_reviews                               10000 non-null object\n",
      "sellers                                        6918 non-null object\n",
      "description_of_product                         10000 non-null object\n",
      "quantity_available                             10000 non-null object\n",
      "quantity_availability_status                   7500 non-null object\n",
      "dtypes: float64(1), object(16)\n",
      "memory usage: 1.3+ MB\n"
     ]
    }
   ],
   "source": [
    "amazon.info()   #checking for the concatenation"
   ]
  },
  {
   "cell_type": "code",
   "execution_count": 25,
   "metadata": {},
   "outputs": [],
   "source": [
    "amazon=amazon.drop(['number_available_in_stock'],axis=1) #dropping column number_available_in_stock"
   ]
  },
  {
   "cell_type": "code",
   "execution_count": 26,
   "metadata": {},
   "outputs": [
    {
     "data": {
      "text/plain": [
       "Index(['uniq_id', 'product_name', 'manufacturer', 'price', 'number_of_reviews',\n",
       "       'number_of_answered_questions', 'average_review_rating',\n",
       "       'amazon_category_and_sub_category',\n",
       "       'customers_who_bought_this_item_also_bought', 'product_information',\n",
       "       'items_customers_buy_after_viewing_this_item', 'customer_reviews',\n",
       "       'sellers', 'description_of_product', 'quantity_available',\n",
       "       'quantity_availability_status'],\n",
       "      dtype='object')"
      ]
     },
     "execution_count": 26,
     "metadata": {},
     "output_type": "execute_result"
    }
   ],
   "source": [
    "amazon.columns"
   ]
  },
  {
   "cell_type": "code",
   "execution_count": 27,
   "metadata": {},
   "outputs": [
    {
     "name": "stdout",
     "output_type": "stream",
     "text": [
      "<class 'pandas.core.frame.DataFrame'>\n",
      "RangeIndex: 10000 entries, 0 to 9999\n",
      "Data columns (total 16 columns):\n",
      "uniq_id                                        10000 non-null object\n",
      "product_name                                   10000 non-null object\n",
      "manufacturer                                   9993 non-null object\n",
      "price                                          8565 non-null object\n",
      "number_of_reviews                              9982 non-null object\n",
      "number_of_answered_questions                   9235 non-null float64\n",
      "average_review_rating                          9982 non-null object\n",
      "amazon_category_and_sub_category               10000 non-null object\n",
      "customers_who_bought_this_item_also_bought     8938 non-null object\n",
      "product_information                            9942 non-null object\n",
      "items_customers_buy_after_viewing_this_item    6935 non-null object\n",
      "customer_reviews                               10000 non-null object\n",
      "sellers                                        6918 non-null object\n",
      "description_of_product                         10000 non-null object\n",
      "quantity_available                             10000 non-null object\n",
      "quantity_availability_status                   7500 non-null object\n",
      "dtypes: float64(1), object(15)\n",
      "memory usage: 1.2+ MB\n"
     ]
    }
   ],
   "source": [
    "amazon.info()"
   ]
  },
  {
   "cell_type": "markdown",
   "metadata": {},
   "source": [
    "Changing datatype of column quantity_available from object to numerical"
   ]
  },
  {
   "cell_type": "code",
   "execution_count": 28,
   "metadata": {},
   "outputs": [],
   "source": [
    "amazon['quantity_available']=amazon['quantity_available'].astype(float)"
   ]
  },
  {
   "cell_type": "code",
   "execution_count": 29,
   "metadata": {},
   "outputs": [
    {
     "data": {
      "text/plain": [
       "dtype('float64')"
      ]
     },
     "execution_count": 29,
     "metadata": {},
     "output_type": "execute_result"
    }
   ],
   "source": [
    "amazon['quantity_available'].dtype"
   ]
  },
  {
   "cell_type": "markdown",
   "metadata": {},
   "source": [
    "Changing datatype of column number_of_reviews from object to numerical"
   ]
  },
  {
   "cell_type": "code",
   "execution_count": 30,
   "metadata": {},
   "outputs": [],
   "source": [
    "def mapnumber_of_reviews(v): \n",
    "    if pd.isnull(v):\n",
    "        return 0\n",
    "    try:\n",
    "        vv = v.replace(\",\",\"\")\n",
    "        return int(vv)\n",
    "    except ValueError:\n",
    "        return 0"
   ]
  },
  {
   "cell_type": "code",
   "execution_count": 31,
   "metadata": {},
   "outputs": [],
   "source": [
    "if amazon['number_of_reviews'].dtype != 'int64':  \n",
    "    amazon['number_of_reviews'] = amazon['number_of_reviews'].map(mapnumber_of_reviews)"
   ]
  },
  {
   "cell_type": "code",
   "execution_count": 32,
   "metadata": {},
   "outputs": [
    {
     "name": "stdout",
     "output_type": "stream",
     "text": [
      "<class 'pandas.core.frame.DataFrame'>\n",
      "RangeIndex: 10000 entries, 0 to 9999\n",
      "Data columns (total 16 columns):\n",
      "uniq_id                                        10000 non-null object\n",
      "product_name                                   10000 non-null object\n",
      "manufacturer                                   9993 non-null object\n",
      "price                                          8565 non-null object\n",
      "number_of_reviews                              10000 non-null int64\n",
      "number_of_answered_questions                   9235 non-null float64\n",
      "average_review_rating                          9982 non-null object\n",
      "amazon_category_and_sub_category               10000 non-null object\n",
      "customers_who_bought_this_item_also_bought     8938 non-null object\n",
      "product_information                            9942 non-null object\n",
      "items_customers_buy_after_viewing_this_item    6935 non-null object\n",
      "customer_reviews                               10000 non-null object\n",
      "sellers                                        6918 non-null object\n",
      "description_of_product                         10000 non-null object\n",
      "quantity_available                             7500 non-null float64\n",
      "quantity_availability_status                   7500 non-null object\n",
      "dtypes: float64(2), int64(1), object(13)\n",
      "memory usage: 1.2+ MB\n"
     ]
    }
   ],
   "source": [
    "amazon.info()"
   ]
  },
  {
   "cell_type": "markdown",
   "metadata": {},
   "source": [
    "Changing datatype of price from string/object to numerical"
   ]
  },
  {
   "cell_type": "code",
   "execution_count": 33,
   "metadata": {},
   "outputs": [
    {
     "name": "stdout",
     "output_type": "stream",
     "text": [
      "2.45 ms ± 84.5 µs per loop (mean ± std. dev. of 7 runs, 100 loops each)\n"
     ]
    }
   ],
   "source": [
    "%timeit amazon['price']=amazon.price.str.strip('£')  #removing £ from values using magic function"
   ]
  },
  {
   "cell_type": "code",
   "execution_count": 34,
   "metadata": {},
   "outputs": [],
   "source": [
    "amazon['price'] = pd.to_numeric(amazon['price'], errors='coerce') #converting from string to float"
   ]
  },
  {
   "cell_type": "code",
   "execution_count": 35,
   "metadata": {},
   "outputs": [
    {
     "data": {
      "text/plain": [
       "dtype('float64')"
      ]
     },
     "execution_count": 35,
     "metadata": {},
     "output_type": "execute_result"
    }
   ],
   "source": [
    "amazon.price.dtype  #checking for conversion done"
   ]
  },
  {
   "cell_type": "code",
   "execution_count": 36,
   "metadata": {},
   "outputs": [
    {
     "data": {
      "text/plain": [
       "0       False\n",
       "1       False\n",
       "2       False\n",
       "3       False\n",
       "4       False\n",
       "5       False\n",
       "6       False\n",
       "7       False\n",
       "8       False\n",
       "9        True\n",
       "10      False\n",
       "11      False\n",
       "12      False\n",
       "13      False\n",
       "14       True\n",
       "15       True\n",
       "16       True\n",
       "17       True\n",
       "18      False\n",
       "19      False\n",
       "20      False\n",
       "21      False\n",
       "22      False\n",
       "23      False\n",
       "24      False\n",
       "25       True\n",
       "26      False\n",
       "27       True\n",
       "28       True\n",
       "29      False\n",
       "        ...  \n",
       "9970    False\n",
       "9971    False\n",
       "9972    False\n",
       "9973    False\n",
       "9974    False\n",
       "9975    False\n",
       "9976     True\n",
       "9977    False\n",
       "9978    False\n",
       "9979    False\n",
       "9980    False\n",
       "9981    False\n",
       "9982    False\n",
       "9983     True\n",
       "9984     True\n",
       "9985    False\n",
       "9986    False\n",
       "9987    False\n",
       "9988    False\n",
       "9989    False\n",
       "9990    False\n",
       "9991    False\n",
       "9992    False\n",
       "9993    False\n",
       "9994    False\n",
       "9995    False\n",
       "9996    False\n",
       "9997    False\n",
       "9998    False\n",
       "9999    False\n",
       "Name: price, Length: 10000, dtype: bool"
      ]
     },
     "execution_count": 36,
     "metadata": {},
     "output_type": "execute_result"
    }
   ],
   "source": [
    "amazon.price.isnull()  #checking for null values present"
   ]
  },
  {
   "cell_type": "markdown",
   "metadata": {},
   "source": [
    "Since missing values are present fill them with mean price"
   ]
  },
  {
   "cell_type": "code",
   "execution_count": 37,
   "metadata": {},
   "outputs": [],
   "source": [
    "meanprice = np.mean(amazon.price)\n",
    "amazon.price = amazon.price.fillna(meanprice)"
   ]
  },
  {
   "cell_type": "code",
   "execution_count": 38,
   "metadata": {},
   "outputs": [
    {
     "data": {
      "text/plain": [
       "0       False\n",
       "1       False\n",
       "2       False\n",
       "3       False\n",
       "4       False\n",
       "5       False\n",
       "6       False\n",
       "7       False\n",
       "8       False\n",
       "9       False\n",
       "10      False\n",
       "11      False\n",
       "12      False\n",
       "13      False\n",
       "14      False\n",
       "15      False\n",
       "16      False\n",
       "17      False\n",
       "18      False\n",
       "19      False\n",
       "20      False\n",
       "21      False\n",
       "22      False\n",
       "23      False\n",
       "24      False\n",
       "25      False\n",
       "26      False\n",
       "27      False\n",
       "28      False\n",
       "29      False\n",
       "        ...  \n",
       "9970    False\n",
       "9971    False\n",
       "9972    False\n",
       "9973    False\n",
       "9974    False\n",
       "9975    False\n",
       "9976    False\n",
       "9977    False\n",
       "9978    False\n",
       "9979    False\n",
       "9980    False\n",
       "9981    False\n",
       "9982    False\n",
       "9983    False\n",
       "9984    False\n",
       "9985    False\n",
       "9986    False\n",
       "9987    False\n",
       "9988    False\n",
       "9989    False\n",
       "9990    False\n",
       "9991    False\n",
       "9992    False\n",
       "9993    False\n",
       "9994    False\n",
       "9995    False\n",
       "9996    False\n",
       "9997    False\n",
       "9998    False\n",
       "9999    False\n",
       "Name: price, Length: 10000, dtype: bool"
      ]
     },
     "execution_count": 38,
     "metadata": {},
     "output_type": "execute_result"
    }
   ],
   "source": [
    "amazon.price.isnull()  #checking for null values filled with mean price"
   ]
  },
  {
   "cell_type": "code",
   "execution_count": 39,
   "metadata": {},
   "outputs": [
    {
     "name": "stdout",
     "output_type": "stream",
     "text": [
      "<class 'pandas.core.frame.DataFrame'>\n",
      "RangeIndex: 10000 entries, 0 to 9999\n",
      "Data columns (total 16 columns):\n",
      "uniq_id                                        10000 non-null object\n",
      "product_name                                   10000 non-null object\n",
      "manufacturer                                   9993 non-null object\n",
      "price                                          10000 non-null float64\n",
      "number_of_reviews                              10000 non-null int64\n",
      "number_of_answered_questions                   9235 non-null float64\n",
      "average_review_rating                          9982 non-null object\n",
      "amazon_category_and_sub_category               10000 non-null object\n",
      "customers_who_bought_this_item_also_bought     8938 non-null object\n",
      "product_information                            9942 non-null object\n",
      "items_customers_buy_after_viewing_this_item    6935 non-null object\n",
      "customer_reviews                               10000 non-null object\n",
      "sellers                                        6918 non-null object\n",
      "description_of_product                         10000 non-null object\n",
      "quantity_available                             7500 non-null float64\n",
      "quantity_availability_status                   7500 non-null object\n",
      "dtypes: float64(3), int64(1), object(12)\n",
      "memory usage: 1.2+ MB\n"
     ]
    }
   ],
   "source": [
    "amazon.info()"
   ]
  },
  {
   "cell_type": "markdown",
   "metadata": {},
   "source": [
    "Changing datatype of column average_review_rating from object to numerical"
   ]
  },
  {
   "cell_type": "code",
   "execution_count": 40,
   "metadata": {},
   "outputs": [],
   "source": [
    "def mapaverage_review_rating(v): \n",
    "    if pd.isnull(v):\n",
    "        return 0\n",
    "    try:\n",
    "        vv = v.split('out')[0][0].strip()\n",
    "        return float(vv)\n",
    "    except ValueError:        \n",
    "        return 0  "
   ]
  },
  {
   "cell_type": "code",
   "execution_count": 41,
   "metadata": {},
   "outputs": [],
   "source": [
    "if amazon['average_review_rating'].dtype != 'float64':\n",
    "    amazon['average_review_rating'] = amazon['average_review_rating'].map(mapaverage_review_rating)"
   ]
  },
  {
   "cell_type": "code",
   "execution_count": 42,
   "metadata": {},
   "outputs": [
    {
     "data": {
      "text/plain": [
       "dtype('float64')"
      ]
     },
     "execution_count": 42,
     "metadata": {},
     "output_type": "execute_result"
    }
   ],
   "source": [
    "amazon['average_review_rating'].dtype"
   ]
  },
  {
   "cell_type": "markdown",
   "metadata": {},
   "source": [
    "Renaming column name from uniq_id to unique_id"
   ]
  },
  {
   "cell_type": "code",
   "execution_count": 43,
   "metadata": {},
   "outputs": [],
   "source": [
    "amazon.rename(columns={'uniq_id':'unique_id'},inplace=True)"
   ]
  },
  {
   "cell_type": "code",
   "execution_count": 44,
   "metadata": {},
   "outputs": [
    {
     "data": {
      "text/plain": [
       "count    10000.000000\n",
       "mean        19.968272\n",
       "std         35.323050\n",
       "min          0.010000\n",
       "25%          5.950000\n",
       "50%         12.990000\n",
       "75%         19.968272\n",
       "max        995.110000\n",
       "Name: price, dtype: float64"
      ]
     },
     "execution_count": 44,
     "metadata": {},
     "output_type": "execute_result"
    }
   ],
   "source": [
    "amazon.price.describe()"
   ]
  },
  {
   "cell_type": "code",
   "execution_count": 45,
   "metadata": {},
   "outputs": [
    {
     "data": {
      "text/plain": [
       "<matplotlib.axes._subplots.AxesSubplot at 0x10c0f09e8>"
      ]
     },
     "execution_count": 45,
     "metadata": {},
     "output_type": "execute_result"
    },
    {
     "data": {
      "image/png": "[encoded data removed]",
      "text/plain": [
       "<Figure size 432x288 with 1 Axes>"
      ]
     },
     "metadata": {},
     "output_type": "display_data"
    }
   ],
   "source": [
    "amazon['price'].hist(bins=50)"
   ]
  },
  {
   "cell_type": "markdown",
   "metadata": {},
   "source": [
    "<b> Popular Toy brands in Amzon are </b> \n",
    "\n",
    "Zoo Animal Hand Sock Glove Finger Puppets Sack Plush Toy Cow, Polyhedral Dice which have high frequency and than Melissa & Doug Stacking Construction Vehicles, The Trash Pack Sewer Truck"
   ]
  },
  {
   "cell_type": "code",
   "execution_count": 46,
   "metadata": {},
   "outputs": [
    {
     "data": {
      "text/plain": [
       "Zoo Animal Hand Sock Glove Finger Puppets Sack Plush Toy Cow                                                                                                    3\n",
       "Polyhedral Dice                                                                                                                                                 3\n",
       "Happy 6th Birthday Giant Party Wall Banner 3 Banners Age 6 Party Decoration                                                                                     2\n",
       "22 Silicone Reborn Baby Girl Realistic Newborn Baby Doll for Toddlers Xmas Gift                                                                                 2\n",
       "Meng \"Model 1:35 Toyota Hilux Pick Up Truck w/ZU23-2\" Kit (Multi-Colour)                                                                                        2\n",
       "Brio 33406 Cow and Wagon                                                                                                                                        2\n",
       "Tofern ® Syma 2015 Edition S107E/S107W New Version 3.5 Channel RC Indoor Helicopter with Gyro ~ Blue                                                            2\n",
       "Set, Model Car, Ready-made, Wiking / PMS 1:87                                                                                                                   2\n",
       "Barbie Advent Calendar                                                                                                                                          2\n",
       "Crayola - 9 Glitter Glue                                                                                                                                        2\n",
       "Frozen Domino Brainteasers                                                                                                                                      2\n",
       "Set Of 12 Foam Water Pistol HYDRO STORM Blaster Shooter Pump                                                                                                    2\n",
       "Aivtalk Transport Trailer Car Carrier Truck Toy for Boys (includes 4 Cars) - Multicolor                                                                         2\n",
       "Iron Man 3 Marvel Iron Assemblers Battle Vehicle                                                                                                                2\n",
       "The Trash Pack Sewer Truck                                                                                                                                      2\n",
       "20Q                                                                                                                                                             2\n",
       "Super Truck model sound + light 1:24 scale included 4 small F1 cars                                                                                             2\n",
       "Power Trains Auto Loader City                                                                                                                                   2\n",
       "Happy 18th Birthday Party Giant Wall Banner 3 Banners Age 18 Party Decoration                                                                                   2\n",
       "100 six sided dice, 14mm, random colours                                                                                                                        2\n",
       "Melissa & Doug Princess Puppet                                                                                                                                  2\n",
       "TAVERN WENCH ADULT FANCY DRESS COSTUME LADIES (PIRATES)                                                                                                         2\n",
       "LEGO Collectable Minifigures: Crash Test Dummy Minifigure (Series 1) (Bagged)                                                                                   2\n",
       "XT-XINTE FQ777-124 Pocket Drone 4CH 6Axis Gyro UFO Quadcopter With Switchable Controller RTF Helicopter (Black)                                                 2\n",
       "Orchard Toys Farmyard Dominoes                                                                                                                                  2\n",
       "Konfidence Youth Swim Jacket - Blue/Navy - 10-12 yrs                                                                                                            2\n",
       "INTEX Inflatable Swimming Paddling Play Pool 3 Ring Blue Toy Kids Childs Childrens Baby Family Sizes - 45'' , 58'' , 66'' Diameter (58'' x 13'')                2\n",
       "Schleich Farm Christmas Advent Calendar                                                                                                                         2\n",
       "Schleich Horse Christmas Advent Calendar                                                                                                                        2\n",
       "Playmobil 6678 Large Floating Pirate Raiders' Ship with 3 Pirates                                                                                               2\n",
       "                                                                                                                                                               ..\n",
       "Lanard Cosmic Thruster with Six Foam Balls                                                                                                                      1\n",
       "Fairy Jigsaw Puzzles (Pack of 12)                                                                                                                               1\n",
       "Crystals & Gems Uk 80 AB CLEAR Faceted Acrylic Sew On Diamante Crystals                                                                                         1\n",
       "Carrera Go Marvel The Amazing Spiderman Spider Racer                                                                                                            1\n",
       "Scalextric 1:32 Scale GT Lightning Slot Car (Purple)                                                                                                            1\n",
       "newray white GTS 300 super vespa 1.12 scale diecast model                                                                                                       1\n",
       "Childs Construction Toy Set 130 Piece Mini Harvester - Compatible with the Leading Brick Building Brand                                                         1\n",
       "Tactic Travellers Dictionary Game                                                                                                                               1\n",
       "Lyndie's Craft 4 x SP Clip on earrings with attached ear nut. Converter. Jewellery. Findings.                                                                   1\n",
       "Star Wars - Santa Yoda Christmas Bobble Head                                                                                                                    1\n",
       "Green Lantern 3 3/4 Action Figure - GL01 Hal Jordan                                                                                                             1\n",
       "Hello Kitty Mini Mandala Designer                                                                                                                               1\n",
       "OFTEN 4pcs 9443 Self-Locking Carbon Fiber Propeller CW/CCW for DJI Phantom 1 & 2 Vision                                                                         1\n",
       "Dolls House Miniature 1:12 Accessory Brass Gold Expanding Curtain Rail Rod Pole                                                                                 1\n",
       "Honda VFR1200F in dark red 1/18 scale from maisto                                                                                                               1\n",
       "Team Hot Wheels High-Speed Wheel Car                                                                                                                            1\n",
       "Brand New Upgrade LED Voltage / Time Parallel Multi 3 Batteries Charger Board Charging Plate for DJI Inspire 1 Quadcopter TB47 4500mAh, TB48 5700mAh Battery    1\n",
       "Pokemon Trading Card Game EX Power Tin - Keldeo                                                                                                                 1\n",
       "CubicFun Leaning Tower of Pisa Italy 3D LED Puzzle                                                                                                              1\n",
       "Toyrific Mermaid Delta Kite                                                                                                                                     1\n",
       "MBNF Join In and Play My Blue Nose Friend Binky The Panda                                                                                                       1\n",
       "10 pieces Lock Alloy Charm Pendant - A0023                                                                                                                      1\n",
       "Toy Story Arm Floats - Disneys Toy Story Arm Floats                                                                                                             1\n",
       "Takara Tomy Beyblades Japanese Metal Fusion Starter Set #Bb106 Fang Leone                                                                                       1\n",
       "GAMORREAN GUARD - LEGO Star Wars Minifigure                                                                                                                     1\n",
       "Happy Retirement Giant Party Wall Banner Party Decoration                                                                                                       1\n",
       "Scalextric C3136 1:32 Scale Ford GT-R Black Swan High Detail Slot Car                                                                                           1\n",
       "GREEN SEA TURTLE Plush Soft Toy - 32cm                                                                                                                          1\n",
       "Age 70/Happy 70th Birthday Silver & Black 21\" Foil Balloon                                                                                                      1\n",
       "Tatty Teddy & My Blue Nose Friends Noo the Wildebeest soft toy, sits 4\" tall.                                                                                   1\n",
       "Name: product_name, Length: 9964, dtype: int64"
      ]
     },
     "execution_count": 46,
     "metadata": {},
     "output_type": "execute_result"
    }
   ],
   "source": [
    "amazon['product_name'].value_counts()   #frequency of products"
   ]
  },
  {
   "cell_type": "code",
   "execution_count": 47,
   "metadata": {},
   "outputs": [
    {
     "data": {
      "text/plain": [
       "count                                                 10000\n",
       "unique                                                 9964\n",
       "top       Zoo Animal Hand Sock Glove Finger Puppets Sack...\n",
       "freq                                                      3\n",
       "Name: product_name, dtype: object"
      ]
     },
     "execution_count": 47,
     "metadata": {},
     "output_type": "execute_result"
    }
   ],
   "source": [
    "amazon['product_name'].describe()"
   ]
  },
  {
   "cell_type": "code",
   "execution_count": 48,
   "metadata": {},
   "outputs": [],
   "source": [
    "amazon['manufacturer'].dropna(how='all',inplace=True)"
   ]
  },
  {
   "cell_type": "code",
   "execution_count": 49,
   "metadata": {},
   "outputs": [
    {
     "data": {
      "text/plain": [
       "LEGO                             171\n",
       "Disney                           167\n",
       "Oxford Diecast                   156\n",
       "Playmobil                        147\n",
       "Star Wars                        120\n",
       "Mattel                           114\n",
       "Hasbro                           110\n",
       "The Puppet Company               109\n",
       "MyTinyWorld                       93\n",
       "Corgi                             90\n",
       "Hornby                            87\n",
       "Scalextric                        76\n",
       "Pokémon                           69\n",
       "Schleich                          68\n",
       "Amscan                            65\n",
       "Every-occasion-party-supplies     62\n",
       "Melissa & Doug                    59\n",
       "FunKo                             59\n",
       "Papo                              58\n",
       "Tamiya                            57\n",
       "Ravensburger                      56\n",
       "Bristol Novelties                 53\n",
       "Intex                             52\n",
       "Hot Wheels                        50\n",
       "Tobar                             49\n",
       "Revell-Monogram                   48\n",
       "Takara Tomy                       48\n",
       "Marvel                            47\n",
       "Thomas & Friends                  47\n",
       "Q-Workshop                        47\n",
       "                                ... \n",
       "Fusion                             1\n",
       "SouvNear                           1\n",
       "Oliver pascal                      1\n",
       "Worry Eater                        1\n",
       "Wiki                               1\n",
       "Character Games Ltd                1\n",
       "Beavis And Butt-Head               1\n",
       "Gonge                              1\n",
       "Pororo                             1\n",
       "Lagonda                            1\n",
       "Lily Dolls                         1\n",
       "Bolt Action                        1\n",
       "Sailor Girl                        1\n",
       "DSN                                1\n",
       "Noris Spiele                       1\n",
       "DC Universe Classics               1\n",
       "BV Leisure                         1\n",
       "Yuelai                             1\n",
       "Super Robot                        1\n",
       "Phase 10 Card Game                 1\n",
       "Cepia                              1\n",
       "United Labels                      1\n",
       "Jane's Games                       1\n",
       "PSE                                1\n",
       "POWER CITY TRAINS                  1\n",
       "Agatsuma                           1\n",
       "Chess                              1\n",
       "Colour Talk                        1\n",
       "MWZ                                1\n",
       "Releaserain                        1\n",
       "Name: manufacturer, Length: 2651, dtype: int64"
      ]
     },
     "execution_count": 49,
     "metadata": {},
     "output_type": "execute_result"
    }
   ],
   "source": [
    "amazon.manufacturer.value_counts()"
   ]
  },
  {
   "cell_type": "markdown",
   "metadata": {},
   "source": [
    "<b> Leading manufacturer in Amazon toy products is </b>\n",
    "\n",
    "LEGO"
   ]
  },
  {
   "cell_type": "code",
   "execution_count": 50,
   "metadata": {},
   "outputs": [
    {
     "data": {
      "text/plain": [
       "count     9993\n",
       "unique    2651\n",
       "top       LEGO\n",
       "freq       171\n",
       "Name: manufacturer, dtype: object"
      ]
     },
     "execution_count": 50,
     "metadata": {},
     "output_type": "execute_result"
    }
   ],
   "source": [
    "amazon['manufacturer'].describe()  #LEGO is the popular manufacturer among all other manufacturers"
   ]
  },
  {
   "cell_type": "markdown",
   "metadata": {},
   "source": [
    "Spliting amazon_category_and_sub_category column to get into Popular categories and sub categories under which toys are bought. "
   ]
  },
  {
   "cell_type": "code",
   "execution_count": 51,
   "metadata": {},
   "outputs": [
    {
     "name": "stdout",
     "output_type": "stream",
     "text": [
      "Hobbies > Model Trains & Railway Sets > Rail Vehicles > Trains\n",
      "\n",
      "\n",
      "Hobbies \n",
      " Model Trains & Railway Sets \n",
      " Rail Vehicles \n",
      " Trains\n"
     ]
    }
   ],
   "source": [
    "print(amazon.amazon_category_and_sub_category[1])\n",
    "print('\\n')\n",
    "\n",
    "for i in amazon.amazon_category_and_sub_category[1].split('>'):\n",
    "    print(i)"
   ]
  },
  {
   "cell_type": "code",
   "execution_count": 52,
   "metadata": {},
   "outputs": [
    {
     "data": {
      "text/plain": [
       "'Model Trains & Railway Sets '"
      ]
     },
     "execution_count": 52,
     "metadata": {},
     "output_type": "execute_result"
    }
   ],
   "source": [
    "amazon.amazon_category_and_sub_category[10].split('>')[1][1:]"
   ]
  },
  {
   "cell_type": "markdown",
   "metadata": {},
   "source": [
    "<b> Hobbies being Major Category under which toys are bought.</b>"
   ]
  },
  {
   "cell_type": "code",
   "execution_count": 53,
   "metadata": {},
   "outputs": [],
   "source": [
    "amazon['MainCategory'] = amazon['amazon_category_and_sub_category'].str.split('>',1).str[0] #MainCategory"
   ]
  },
  {
   "cell_type": "code",
   "execution_count": 54,
   "metadata": {},
   "outputs": [
    {
     "name": "stdout",
     "output_type": "stream",
     "text": [
      "Top Ten Main Categories.\n",
      "\n",
      "Hobbies                     1464\n",
      "Die-Cast & Toy Vehicles     1221\n",
      "Figures & Playsets          1111\n",
      "Characters & Brands          960\n",
      "Games                        941\n",
      "Arts & Crafts                802\n",
      "Party Supplies               694\n",
      "                             690\n",
      "Fancy Dress                  585\n",
      "Sports Toys & Outdoor        372\n",
      "Name: MainCategory, dtype: int64\n"
     ]
    }
   ],
   "source": [
    "print('Top Ten Main Categories.\\n')\n",
    "print(amazon['MainCategory'].value_counts()[:10])  "
   ]
  },
  {
   "cell_type": "code",
   "execution_count": 55,
   "metadata": {},
   "outputs": [
    {
     "data": {
      "image/png": "[encoded data removed]",
      "text/plain": [
       "<Figure size 864x576 with 1 Axes>"
      ]
     },
     "metadata": {},
     "output_type": "display_data"
    }
   ],
   "source": [
    "plt.figure(figsize=(12,8))\n",
    "amazon['MainCategory'].value_counts()[:20].sort_values(ascending=True).plot(kind='barh')\n",
    "plt.title('Main Category',fontsize=20)\n",
    "plt.yticks(fontsize=12)\n",
    "plt.xticks(fontsize=12)\n",
    "plt.show()\n"
   ]
  },
  {
   "cell_type": "code",
   "execution_count": 56,
   "metadata": {},
   "outputs": [],
   "source": [
    "amazon['SecondaryCategory'] = amazon['amazon_category_and_sub_category'].str.split('>',2).str[1]"
   ]
  },
  {
   "cell_type": "markdown",
   "metadata": {},
   "source": [
    "<b> Toy Vehicles & Accessories being top among sub category for purchasing toys. </b>"
   ]
  },
  {
   "cell_type": "code",
   "execution_count": 57,
   "metadata": {},
   "outputs": [
    {
     "name": "stdout",
     "output_type": "stream",
     "text": [
      "Top Ten Sub Categories.\n",
      "\n",
      " Toy Vehicles & Accessories       1100\n",
      " Science Fiction & Fantasy         485\n",
      " Accessories                       388\n",
      " Model Trains & Railway Sets       386\n",
      " Trading Cards & Accessories       376\n",
      " Children's Craft Kits             369\n",
      " Disney                            347\n",
      " Banners, Stickers & Confetti      335\n",
      " Decorations                       317\n",
      " Dice & Dice Games                 298\n",
      "Name: SecondaryCategory, dtype: int64\n"
     ]
    }
   ],
   "source": [
    "print('Top Ten Sub Categories.\\n')\n",
    "print(amazon['SecondaryCategory'].value_counts()[:10]) "
   ]
  },
  {
   "cell_type": "code",
   "execution_count": 58,
   "metadata": {},
   "outputs": [
    {
     "data": {
      "image/png": "[encoded data removed]",
      "text/plain": [
       "<Figure size 864x576 with 1 Axes>"
      ]
     },
     "metadata": {},
     "output_type": "display_data"
    }
   ],
   "source": [
    "import matplotlib.pyplot as plt\n",
    "import seaborn as sns\n",
    "plt.figure(figsize=(12,8))\n",
    "amazon['SecondaryCategory'].value_counts()[:20].sort_values(ascending=True).plot(kind='barh')\n",
    "plt.title('Secondary Category',fontsize=20)\n",
    "plt.yticks(fontsize=12)\n",
    "plt.xticks(fontsize=12)\n",
    "plt.show()\n"
   ]
  },
  {
   "cell_type": "markdown",
   "metadata": {},
   "source": [
    "<b> Scaled Models are preferred more to buy. </b>"
   ]
  },
  {
   "cell_type": "code",
   "execution_count": 59,
   "metadata": {},
   "outputs": [],
   "source": [
    "amazon['TertiaryCategory'] = amazon['amazon_category_and_sub_category'].str.split('>',3).str[2]"
   ]
  },
  {
   "cell_type": "code",
   "execution_count": 60,
   "metadata": {},
   "outputs": [
    {
     "name": "stdout",
     "output_type": "stream",
     "text": [
      "Top Ten Tertiary Categories.\n",
      "\n",
      " Scaled Models                  912\n",
      " Toys                           623\n",
      " Bead Art & Jewellery-Making    368\n",
      " Packs & Sets                   317\n",
      " Balloons                       293\n",
      " Banners                        278\n",
      " Rail Vehicles                  264\n",
      " Masks                          188\n",
      " Dolls' House Accessories       172\n",
      " Adults                         169\n",
      "Name: TertiaryCategory, dtype: int64\n"
     ]
    }
   ],
   "source": [
    "print('Top Ten Tertiary Categories.\\n')\n",
    "print(amazon['TertiaryCategory'].value_counts()[:10]) "
   ]
  },
  {
   "cell_type": "code",
   "execution_count": 61,
   "metadata": {},
   "outputs": [
    {
     "data": {
      "image/png": "[encoded data removed]",
      "text/plain": [
       "<Figure size 864x576 with 1 Axes>"
      ]
     },
     "metadata": {},
     "output_type": "display_data"
    }
   ],
   "source": [
    "import matplotlib.pyplot as plt\n",
    "import seaborn as sns\n",
    "plt.figure(figsize=(12,8))\n",
    "amazon['TertiaryCategory'].value_counts()[:20].sort_values(ascending=True).plot(kind='barh')\n",
    "plt.title('Tertiary Category',fontsize=20)\n",
    "plt.yticks(fontsize=12)\n",
    "plt.xticks(fontsize=12)\n",
    "plt.show()\n"
   ]
  },
  {
   "cell_type": "markdown",
   "metadata": {},
   "source": [
    "<b> Under Scaled Models, Vehicles are popular over Trains, Locomotives etc to be bought.</b>"
   ]
  },
  {
   "cell_type": "code",
   "execution_count": 62,
   "metadata": {},
   "outputs": [],
   "source": [
    "amazon['QuaternaryCategory'] = amazon['amazon_category_and_sub_category'].str.split('>',4).str[3]"
   ]
  },
  {
   "cell_type": "code",
   "execution_count": 63,
   "metadata": {},
   "outputs": [
    {
     "name": "stdout",
     "output_type": "stream",
     "text": [
      "Top Ten Quaternary Categories.\n",
      "\n",
      " Vehicles                       880\n",
      " Trains                         176\n",
      " Locomotives                     88\n",
      " Figures & Decoration Parts      43\n",
      " Landscaping                     42\n",
      " Sleeves                         32\n",
      " Boats                           18\n",
      " Signal & Sound                  13\n",
      " Buttons & Pins                  10\n",
      " Albums                           9\n",
      "Name: QuaternaryCategory, dtype: int64\n"
     ]
    }
   ],
   "source": [
    "print('Top Ten Quaternary Categories.\\n')             \n",
    "print(amazon['QuaternaryCategory'].value_counts()[:10])"
   ]
  },
  {
   "cell_type": "markdown",
   "metadata": {},
   "source": [
    "<b> Products with high number_of_reviews are generally sold.</b>"
   ]
  },
  {
   "cell_type": "code",
   "execution_count": 64,
   "metadata": {},
   "outputs": [
    {
     "data": {
      "image/png": "[encoded data removed]",
      "text/plain": [
       "<Figure size 432x288 with 1 Axes>"
      ]
     },
     "metadata": {},
     "output_type": "display_data"
    }
   ],
   "source": [
    "sns.stripplot(data = amazon, y = \"number_of_reviews\", jitter = True,  color='goldenrod')\n",
    "plt.xlabel(\"Products\", fontsize=10)\n",
    "plt.ylabel('number', fontsize=10)       \n",
    "plt.title('Distribution of number_of_reviews', fontsize=10)       \n",
    "plt.show()"
   ]
  },
  {
   "cell_type": "markdown",
   "metadata": {},
   "source": [
    "<b> Scatter plot between number_of_reviews and average_review_rating having ratings maximum between 4-5 out of 5 which indicates that products sold are good in quality and preferred for purchase by customers. </b>"
   ]
  },
  {
   "cell_type": "code",
   "execution_count": 65,
   "metadata": {},
   "outputs": [
    {
     "data": {
      "text/plain": [
       "<matplotlib.axes._subplots.AxesSubplot at 0x10cd98048>"
      ]
     },
     "execution_count": 65,
     "metadata": {},
     "output_type": "execute_result"
    },
    {
     "data": {
      "image/png": "[encoded data removed]",
      "text/plain": [
       "<Figure size 432x288 with 1 Axes>"
      ]
     },
     "metadata": {},
     "output_type": "display_data"
    }
   ],
   "source": [
    "amazon.plot(kind='scatter', x='average_review_rating', y='number_of_reviews')"
   ]
  },
  {
   "cell_type": "code",
   "execution_count": null,
   "metadata": {},
   "outputs": [],
   "source": []
  }
 ],
 "metadata": {
  "kernelspec": {
   "display_name": "Python 3",
   "language": "python",
   "name": "python3"
  },
  "language_info": {
   "codemirror_mode": {
    "name": "ipython",
    "version": 3
   },
   "file_extension": ".py",
   "mimetype": "text/x-python",
   "name": "python",
   "nbconvert_exporter": "python",
   "pygments_lexer": "ipython3",
   "version": "3.6.5"
  }
 },
 "nbformat": 4,
 "nbformat_minor": 2
}
